{
 "cells": [
  {
   "cell_type": "code",
   "execution_count": 2,
   "metadata": {},
   "outputs": [
    {
     "name": "stderr",
     "output_type": "stream",
     "text": [
      "C:\\ProgramData\\Anaconda3\\lib\\site-packages\\pandas\\core\\generic.py:3549: SettingWithCopyWarning: \n",
      "A value is trying to be set on a copy of a slice from a DataFrame\n",
      "\n",
      "See the caveats in the documentation: http://pandas.pydata.org/pandas-docs/stable/indexing.html#indexing-view-versus-copy\n",
      "  self._update_inplace(new_data)\n",
      "C:\\ProgramData\\Anaconda3\\lib\\site-packages\\ipykernel_launcher.py:65: SettingWithCopyWarning: \n",
      "A value is trying to be set on a copy of a slice from a DataFrame.\n",
      "Try using .loc[row_indexer,col_indexer] = value instead\n",
      "\n",
      "See the caveats in the documentation: http://pandas.pydata.org/pandas-docs/stable/indexing.html#indexing-view-versus-copy\n"
     ]
    }
   ],
   "source": [
    "holidays =r\"C:\\Users\\ss186102\\Desktop\\ZS hackathon\\dataset\\holidays.xlsx\"\n",
    "yds_train2018 =r\"C:\\Users\\ss186102\\Desktop\\ZS hackathon\\dataset\\yds_train2018.csv\"\n",
    "yds_test2018 =r\"C:\\Users\\ss186102\\Desktop\\ZS hackathon\\dataset\\yds_test2018.csv\"\n",
    "expense =r\"C:\\Users\\ss186102\\Desktop\\ZS hackathon\\dataset\\promotional_expense.csv\"\n",
    "\n",
    "\n",
    "import numpy as np\n",
    "import pandas as pd\n",
    "\n",
    "holidays = pd.read_excel(holidays)\n",
    "yds_train2018= pd.read_csv(yds_train2018)\n",
    "yds_test2018 = pd.read_csv(yds_test2018)\n",
    "expense = pd.read_csv(expense)\n",
    "\n",
    "\n",
    "\n",
    "holidays['Year'] = holidays.Date.apply(lambda x: x.split(\",\")[0])\n",
    "holidays['Month'] = holidays.Date.apply(lambda x: x.split(\",\")[1])\n",
    "holidays['Day'] = holidays.Date.apply(lambda x: x.split(\",\")[2])\n",
    "holidays = holidays.iloc[:,1:]\n",
    "holidays['Month']= holidays['Month'].astype('int32')\n",
    "holidays['Year']= holidays['Year'].astype('int32')\n",
    "holidays['Day']= holidays['Day'].astype('int32')\n",
    "holidays['Week'] = pd.to_datetime(holidays[['Year', 'Month', 'Day']]).dt.week\n",
    "holidays = holidays.drop('Day',axis= 1)\n",
    "\n",
    "expense.rename(columns = {'Product_Type':'Product_ID'},inplace=True)\n",
    "join_data = pd.merge(expense,yds_train2018,on=['Year','Month','Country','Product_ID'],how='right')\n",
    "\n",
    "h1=holidays.groupby(by=['Country','Year','Month']).count()\n",
    "h1.reset_index(inplace=True)\n",
    "h1.drop('Week',axis=1,inplace=True)\n",
    "join_data1 = pd.merge(h1,join_data,on=['Year','Month','Country'],how='right')\n",
    "join_data2= join_data1[['Country','Year','Month','Holiday','Product_ID','Expense_Price','Sales']]\n",
    "\n",
    "final_data= join_data2.groupby(by=['Country','Year','Month','Holiday','Product_ID','Expense_Price']).sum()\n",
    "final_data.reset_index(inplace=True)\n",
    "\n",
    "final_data.Month = final_data.Month.astype('str')\n",
    "final_data.Year = final_data.Year.astype('str')\n",
    "final_data['period'] = final_data[['Year','Month']].apply(lambda x: '-'.join(x), axis=1)\n",
    "dateparse = lambda dates: pd.datetime.strptime(dates, '%Y-%m')\n",
    "final_data['period']= final_data['period'].apply(dateparse)\n",
    "\n",
    "final_data.Month = final_data.Month.astype('int')\n",
    "final_data.Year = final_data.Year.astype('int')\n",
    "\n",
    "\n",
    "from sklearn.ensemble import RandomForestRegressor\n",
    "regr = RandomForestRegressor(max_depth=2, random_state=0)\n",
    "a = final_data.Country.unique()\n",
    "for i in a:\n",
    "    Arg_train=final_data[final_data.Country ==i ]\n",
    "    Arg_train_X=Arg_train[['Month','Holiday','Expense_Price']]\n",
    "    Arg_train_y = Arg_train[['Sales']]   \n",
    "    regr.fit(X=Arg_train_X,y=Arg_train_y)\n",
    "    test_join_data = pd.merge(expense,yds_test2018,on=['Year','Month','Country','Product_ID'],how='right')\n",
    "    test_join_data1 = pd.merge(h1,test_join_data,on=['Year','Month','Country'],how='right')\n",
    "    test_join_data2= test_join_data1 [['Country','Year','Month','Holiday','Product_ID','Expense_Price']]\n",
    "    Arg_test = test_join_data2[test_join_data2.Country == i]\n",
    "    Arg_test_X=Arg_test[['Month','Holiday','Expense_Price']]\n",
    "    Arg_test_X['Holiday'].fillna(0,inplace = True)\n",
    "    Arg_test_X['Expense_Price'].fillna(0,inplace = True)\n",
    "    Arg_test_predict = regr.predict(Arg_test_X)\n",
    "    Arg_test['Sales'] = Arg_test_predict\n",
    "    Arg_test.to_csv(\"C:/Users/ss186102/Desktop/ZS hackathon/dataset/\"  +i+ \".csv\")"
   ]
  }
 ],
 "metadata": {
  "kernelspec": {
   "display_name": "Python 3",
   "language": "python",
   "name": "python3"
  },
  "language_info": {
   "codemirror_mode": {
    "name": "ipython",
    "version": 3
   },
   "file_extension": ".py",
   "mimetype": "text/x-python",
   "name": "python",
   "nbconvert_exporter": "python",
   "pygments_lexer": "ipython3",
   "version": "3.6.1"
  }
 },
 "nbformat": 4,
 "nbformat_minor": 2
}
